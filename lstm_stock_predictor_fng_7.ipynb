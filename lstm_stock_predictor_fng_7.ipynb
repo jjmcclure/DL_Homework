{
 "cells": [
  {
   "cell_type": "markdown",
   "metadata": {},
   "source": [
    "# LSTM Stock Predictor Using Fear and Greed Index\n",
    "\n",
    "In this notebook, you will build and train a custom LSTM RNN that uses a 10 day window of Bitcoin fear and greed index values to predict the 11th day closing price. \n",
    "\n",
    "You will need to:\n",
    "\n",
    "1. Prepare the data for training and testing\n",
    "2. Build and train a custom LSTM RNN\n",
    "3. Evaluate the performance of the model"
   ]
  },
  {
   "cell_type": "markdown",
   "metadata": {},
   "source": [
    "## Data Preparation\n",
    "\n",
    "In this section, you will need to prepare the training and testing data for the model. The model will use a rolling 10 day window to predict the 11th day closing price.\n",
    "\n",
    "You will need to:\n",
    "1. Use the `window_data` function to generate the X and y values for the model.\n",
    "2. Split the data into 70% training and 30% testing\n",
    "3. Apply the MinMaxScaler to the X and y values\n",
    "4. Reshape the X_train and X_test data for the model. Note: The required input format for the LSTM is:\n",
    "\n",
    "```python\n",
    "reshape((X_train.shape[0], X_train.shape[1], 1))\n",
    "```"
   ]
  },
  {
   "cell_type": "code",
   "execution_count": 25,
   "metadata": {},
   "outputs": [],
   "source": [
    "import numpy as np\n",
    "import pandas as pd\n",
    "import hvplot.pandas"
   ]
  },
  {
   "cell_type": "code",
   "execution_count": 26,
   "metadata": {},
   "outputs": [],
   "source": [
    "# Set the random seed for reproducibility\n",
    "# Note: This is for the homework solution, but it is good practice to comment this out and run multiple experiments to evaluate your model\n",
    "from numpy.random import seed\n",
    "seed(1)\n",
    "from tensorflow import random\n",
    "random.set_seed(2)"
   ]
  },
  {
   "cell_type": "code",
   "execution_count": 27,
   "metadata": {},
   "outputs": [
    {
     "data": {
      "text/html": [
       "<div>\n",
       "<style scoped>\n",
       "    .dataframe tbody tr th:only-of-type {\n",
       "        vertical-align: middle;\n",
       "    }\n",
       "\n",
       "    .dataframe tbody tr th {\n",
       "        vertical-align: top;\n",
       "    }\n",
       "\n",
       "    .dataframe thead th {\n",
       "        text-align: right;\n",
       "    }\n",
       "</style>\n",
       "<table border=\"1\" class=\"dataframe\">\n",
       "  <thead>\n",
       "    <tr style=\"text-align: right;\">\n",
       "      <th></th>\n",
       "      <th>fng_value</th>\n",
       "    </tr>\n",
       "    <tr>\n",
       "      <th>date</th>\n",
       "      <th></th>\n",
       "    </tr>\n",
       "  </thead>\n",
       "  <tbody>\n",
       "    <tr>\n",
       "      <th>2019-07-29</th>\n",
       "      <td>19</td>\n",
       "    </tr>\n",
       "    <tr>\n",
       "      <th>2019-07-28</th>\n",
       "      <td>16</td>\n",
       "    </tr>\n",
       "    <tr>\n",
       "      <th>2019-07-27</th>\n",
       "      <td>47</td>\n",
       "    </tr>\n",
       "    <tr>\n",
       "      <th>2019-07-26</th>\n",
       "      <td>24</td>\n",
       "    </tr>\n",
       "    <tr>\n",
       "      <th>2019-07-25</th>\n",
       "      <td>42</td>\n",
       "    </tr>\n",
       "  </tbody>\n",
       "</table>\n",
       "</div>"
      ],
      "text/plain": [
       "             fng_value\n",
       "date                  \n",
       "2019-07-29          19\n",
       "2019-07-28          16\n",
       "2019-07-27          47\n",
       "2019-07-26          24\n",
       "2019-07-25          42"
      ]
     },
     "execution_count": 27,
     "metadata": {},
     "output_type": "execute_result"
    }
   ],
   "source": [
    "# Load the fear and greed sentiment data for Bitcoin\n",
    "df = pd.read_csv('btc_sentiment.csv', index_col=\"date\", infer_datetime_format=True, parse_dates=True)\n",
    "df = df.drop(columns=\"fng_classification\")\n",
    "df.head()"
   ]
  },
  {
   "cell_type": "code",
   "execution_count": 28,
   "metadata": {},
   "outputs": [
    {
     "data": {
      "text/plain": [
       "Date\n",
       "2019-07-25    9882.429688\n",
       "2019-07-26    9847.450195\n",
       "2019-07-27    9478.320313\n",
       "2019-07-28    9531.769531\n",
       "2019-07-29    9529.889648\n",
       "Name: Close, dtype: float64"
      ]
     },
     "execution_count": 28,
     "metadata": {},
     "output_type": "execute_result"
    }
   ],
   "source": [
    "# Load the historical closing prices for Bitcoin\n",
    "df2 = pd.read_csv('btc_historic.csv', index_col=\"Date\", infer_datetime_format=True, parse_dates=True)['Close']\n",
    "df2 = df2.sort_index()\n",
    "df2.tail()"
   ]
  },
  {
   "cell_type": "code",
   "execution_count": 29,
   "metadata": {},
   "outputs": [
    {
     "data": {
      "text/html": [
       "<div>\n",
       "<style scoped>\n",
       "    .dataframe tbody tr th:only-of-type {\n",
       "        vertical-align: middle;\n",
       "    }\n",
       "\n",
       "    .dataframe tbody tr th {\n",
       "        vertical-align: top;\n",
       "    }\n",
       "\n",
       "    .dataframe thead th {\n",
       "        text-align: right;\n",
       "    }\n",
       "</style>\n",
       "<table border=\"1\" class=\"dataframe\">\n",
       "  <thead>\n",
       "    <tr style=\"text-align: right;\">\n",
       "      <th></th>\n",
       "      <th>fng_value</th>\n",
       "      <th>Close</th>\n",
       "    </tr>\n",
       "  </thead>\n",
       "  <tbody>\n",
       "    <tr>\n",
       "      <th>2019-07-25</th>\n",
       "      <td>42</td>\n",
       "      <td>9882.429688</td>\n",
       "    </tr>\n",
       "    <tr>\n",
       "      <th>2019-07-26</th>\n",
       "      <td>24</td>\n",
       "      <td>9847.450195</td>\n",
       "    </tr>\n",
       "    <tr>\n",
       "      <th>2019-07-27</th>\n",
       "      <td>47</td>\n",
       "      <td>9478.320313</td>\n",
       "    </tr>\n",
       "    <tr>\n",
       "      <th>2019-07-28</th>\n",
       "      <td>16</td>\n",
       "      <td>9531.769531</td>\n",
       "    </tr>\n",
       "    <tr>\n",
       "      <th>2019-07-29</th>\n",
       "      <td>19</td>\n",
       "      <td>9529.889648</td>\n",
       "    </tr>\n",
       "  </tbody>\n",
       "</table>\n",
       "</div>"
      ],
      "text/plain": [
       "             fng_value        Close\n",
       "2019-07-25          42  9882.429688\n",
       "2019-07-26          24  9847.450195\n",
       "2019-07-27          47  9478.320313\n",
       "2019-07-28          16  9531.769531\n",
       "2019-07-29          19  9529.889648"
      ]
     },
     "execution_count": 29,
     "metadata": {},
     "output_type": "execute_result"
    }
   ],
   "source": [
    "# Join the data into a single DataFrame\n",
    "df = df.join(df2, how=\"inner\")\n",
    "df.tail()"
   ]
  },
  {
   "cell_type": "code",
   "execution_count": 30,
   "metadata": {},
   "outputs": [
    {
     "data": {
      "text/html": [
       "<div>\n",
       "<style scoped>\n",
       "    .dataframe tbody tr th:only-of-type {\n",
       "        vertical-align: middle;\n",
       "    }\n",
       "\n",
       "    .dataframe tbody tr th {\n",
       "        vertical-align: top;\n",
       "    }\n",
       "\n",
       "    .dataframe thead th {\n",
       "        text-align: right;\n",
       "    }\n",
       "</style>\n",
       "<table border=\"1\" class=\"dataframe\">\n",
       "  <thead>\n",
       "    <tr style=\"text-align: right;\">\n",
       "      <th></th>\n",
       "      <th>fng_value</th>\n",
       "      <th>Close</th>\n",
       "    </tr>\n",
       "  </thead>\n",
       "  <tbody>\n",
       "    <tr>\n",
       "      <th>2018-02-01</th>\n",
       "      <td>30</td>\n",
       "      <td>9114.719727</td>\n",
       "    </tr>\n",
       "    <tr>\n",
       "      <th>2018-02-02</th>\n",
       "      <td>15</td>\n",
       "      <td>8870.820313</td>\n",
       "    </tr>\n",
       "    <tr>\n",
       "      <th>2018-02-03</th>\n",
       "      <td>40</td>\n",
       "      <td>9251.269531</td>\n",
       "    </tr>\n",
       "    <tr>\n",
       "      <th>2018-02-04</th>\n",
       "      <td>24</td>\n",
       "      <td>8218.049805</td>\n",
       "    </tr>\n",
       "    <tr>\n",
       "      <th>2018-02-05</th>\n",
       "      <td>11</td>\n",
       "      <td>6937.080078</td>\n",
       "    </tr>\n",
       "  </tbody>\n",
       "</table>\n",
       "</div>"
      ],
      "text/plain": [
       "             fng_value        Close\n",
       "2018-02-01          30  9114.719727\n",
       "2018-02-02          15  8870.820313\n",
       "2018-02-03          40  9251.269531\n",
       "2018-02-04          24  8218.049805\n",
       "2018-02-05          11  6937.080078"
      ]
     },
     "execution_count": 30,
     "metadata": {},
     "output_type": "execute_result"
    }
   ],
   "source": [
    "df.head()"
   ]
  },
  {
   "cell_type": "code",
   "execution_count": 31,
   "metadata": {},
   "outputs": [],
   "source": [
    "# This function accepts the column number for the features (X) and the target (y)\n",
    "# It chunks the data up with a rolling window of Xt-n to predict Xt\n",
    "# It returns a numpy array of X any y\n",
    "def window_data(df, window, feature_col_number, target_col_number):\n",
    "    X = []\n",
    "    y = []\n",
    "    for i in range(len(df) - window - 1):\n",
    "        features = df.iloc[i:(i + window), feature_col_number]\n",
    "        target = df.iloc[(i + window), target_col_number]\n",
    "        X.append(features)\n",
    "        y.append(target)\n",
    "    return np.array(X), np.array(y).reshape(-1, 1)"
   ]
  },
  {
   "cell_type": "code",
   "execution_count": 32,
   "metadata": {},
   "outputs": [],
   "source": [
    "# Predict Closing Prices using a 10 day window of previous fng values\n",
    "# Then, experiment with window sizes anywhere from 1 to 10 and see how the model performance changes\n",
    "window_size = 7\n",
    "\n",
    "# Column index 0 is the 'fng_value' column\n",
    "# Column index 1 is the `Close` column\n",
    "feature_column = 0\n",
    "target_column = 1\n",
    "X, y = window_data(df, window_size, feature_column, target_column)"
   ]
  },
  {
   "cell_type": "code",
   "execution_count": 33,
   "metadata": {},
   "outputs": [],
   "source": [
    "# Use 70% of the data for training and the remaineder for testing\n",
    "# YOUR CODE HERE!\n",
    "split = int(0.7 * len(X))\n",
    "\n",
    "X_train = X[: split - 1]\n",
    "X_test = X[split:]\n",
    "\n",
    "y_train = y[: split - 1]\n",
    "y_test = y[split:]"
   ]
  },
  {
   "cell_type": "code",
   "execution_count": 34,
   "metadata": {},
   "outputs": [],
   "source": [
    "from sklearn.preprocessing import MinMaxScaler\n",
    "# Use the MinMaxScaler to scale data between 0 and 1.\n",
    "# YOUR CODE HERE!\n",
    "scaler = MinMaxScaler()\n",
    "\n",
    "# Fit the MinMaxScaler object with the features data X\n",
    "scaler.fit(X)\n",
    "\n",
    "# Scale the features training and testing sets\n",
    "X_train = scaler.transform(X_train)\n",
    "X_test = scaler.transform(X_test)\n",
    "\n",
    "# Fit the MinMaxScaler object with the target data Y\n",
    "scaler.fit(y)\n",
    "\n",
    "# Scale the target training and testing sets\n",
    "y_train = scaler.transform(y_train)\n",
    "y_test = scaler.transform(y_test)"
   ]
  },
  {
   "cell_type": "code",
   "execution_count": 35,
   "metadata": {},
   "outputs": [
    {
     "data": {
      "text/plain": [
       "161"
      ]
     },
     "execution_count": 35,
     "metadata": {},
     "output_type": "execute_result"
    }
   ],
   "source": [
    "len(y_test)"
   ]
  },
  {
   "cell_type": "code",
   "execution_count": 36,
   "metadata": {
    "scrolled": true
   },
   "outputs": [
    {
     "name": "stdout",
     "output_type": "stream",
     "text": [
      "X_train sample values:\n",
      "[[[0.25287356]\n",
      "  [0.08045977]\n",
      "  [0.36781609]\n",
      "  [0.18390805]\n",
      "  [0.03448276]\n",
      "  [0.        ]\n",
      "  [0.31395349]]\n",
      "\n",
      " [[0.08045977]\n",
      "  [0.36781609]\n",
      "  [0.18390805]\n",
      "  [0.03448276]\n",
      "  [0.        ]\n",
      "  [0.32183908]\n",
      "  [0.24418605]]\n",
      "\n",
      " [[0.36781609]\n",
      "  [0.18390805]\n",
      "  [0.03448276]\n",
      "  [0.        ]\n",
      "  [0.32183908]\n",
      "  [0.25287356]\n",
      "  [0.40697674]]] \n",
      "\n",
      "X_test sample values:\n",
      "[[[0.34482759]\n",
      "  [0.45977011]\n",
      "  [0.45977011]\n",
      "  [0.40229885]\n",
      "  [0.40229885]\n",
      "  [0.37931034]\n",
      "  [0.3372093 ]]\n",
      "\n",
      " [[0.45977011]\n",
      "  [0.45977011]\n",
      "  [0.40229885]\n",
      "  [0.40229885]\n",
      "  [0.37931034]\n",
      "  [0.34482759]\n",
      "  [0.62790698]]\n",
      "\n",
      " [[0.45977011]\n",
      "  [0.40229885]\n",
      "  [0.40229885]\n",
      "  [0.37931034]\n",
      "  [0.34482759]\n",
      "  [0.63218391]\n",
      "  [0.65116279]]]\n"
     ]
    }
   ],
   "source": [
    "# Reshape the features for the model\n",
    "# YOUR CODE HERE!\n",
    "X_train = X_train.reshape((X_train.shape[0], X_train.shape[1], 1))\n",
    "X_test = X_test.reshape((X_test.shape[0], X_test.shape[1], 1))\n",
    "\n",
    "# Print some sample data after reshaping the datasets\n",
    "print (f\"X_train sample values:\\n{X_train[:3]} \\n\")\n",
    "print (f\"X_test sample values:\\n{X_test[:3]}\")"
   ]
  },
  {
   "cell_type": "markdown",
   "metadata": {},
   "source": [
    "---"
   ]
  },
  {
   "cell_type": "markdown",
   "metadata": {},
   "source": [
    "## Build and Train the LSTM RNN\n",
    "\n",
    "In this section, you will design a custom LSTM RNN and fit (train) it using the training data.\n",
    "\n",
    "You will need to:\n",
    "1. Define the model architecture\n",
    "2. Compile the model\n",
    "3. Fit the model to the training data\n",
    "\n",
    "### Hints:\n",
    "You will want to use the same model architecture and random seed for both notebooks. This is necessary to accurately compare the performance of the FNG model vs the closing price model. "
   ]
  },
  {
   "cell_type": "code",
   "execution_count": 37,
   "metadata": {},
   "outputs": [],
   "source": [
    "from tensorflow.keras.models import Sequential\n",
    "from tensorflow.keras.layers import LSTM, Dense, Dropout\n",
    "from tensorflow.keras.metrics import Accuracy"
   ]
  },
  {
   "cell_type": "code",
   "execution_count": 38,
   "metadata": {},
   "outputs": [],
   "source": [
    "# Build the LSTM model. \n",
    "# The return sequences need to be set to True if you are adding additional LSTM layers, but \n",
    "# You don't have to do this for the final layer. \n",
    "# Note: The dropouts help prevent overfitting\n",
    "# Note: The input shape is the number of time steps and the number of indicators\n",
    "# Note: Batching inputs has a different input shape of Samples/TimeSteps/Features\n",
    "\n",
    "# YOUR CODE HERE!\n",
    "# Define the LSTM RNN model.\n",
    "model = Sequential()\n",
    "accuracy = Accuracy()\n",
    "# Initial model setup\n",
    "number_units = 30\n",
    "dropout_fraction = 0.2\n",
    "\n",
    "# Layer 1\n",
    "model.add(LSTM(\n",
    "    units=75,\n",
    "    return_sequences=True,\n",
    "    input_shape=(X_train.shape[1], 1))\n",
    "    )\n",
    "model.add(Dropout(dropout_fraction))\n",
    "\n",
    "# Layer 2\n",
    "model.add(LSTM(units=30, return_sequences=True))\n",
    "model.add(Dropout(dropout_fraction))\n",
    "\n",
    "# Layer 3\n",
    "model.add(LSTM(units=30))\n",
    "model.add(Dropout(dropout_fraction))\n",
    "\n",
    "# Output layer\n",
    "model.add(Dense(1, activation='linear'))"
   ]
  },
  {
   "cell_type": "code",
   "execution_count": 39,
   "metadata": {},
   "outputs": [],
   "source": [
    "# Compile the model\n",
    "# YOUR CODE HERE!\n",
    "model.compile(optimizer=\"adam\", loss=\"mean_squared_error\", metrics=['accuracy'])\n",
    "# model.compile(loss='binary_crossentropy', optimizer='adam', metrics=['accuracy'])\n"
   ]
  },
  {
   "cell_type": "code",
   "execution_count": 40,
   "metadata": {},
   "outputs": [
    {
     "name": "stdout",
     "output_type": "stream",
     "text": [
      "Model: \"sequential_1\"\n",
      "_________________________________________________________________\n",
      "Layer (type)                 Output Shape              Param #   \n",
      "=================================================================\n",
      "lstm_3 (LSTM)                (None, 7, 75)             23100     \n",
      "_________________________________________________________________\n",
      "dropout_3 (Dropout)          (None, 7, 75)             0         \n",
      "_________________________________________________________________\n",
      "lstm_4 (LSTM)                (None, 7, 30)             12720     \n",
      "_________________________________________________________________\n",
      "dropout_4 (Dropout)          (None, 7, 30)             0         \n",
      "_________________________________________________________________\n",
      "lstm_5 (LSTM)                (None, 30)                7320      \n",
      "_________________________________________________________________\n",
      "dropout_5 (Dropout)          (None, 30)                0         \n",
      "_________________________________________________________________\n",
      "dense_1 (Dense)              (None, 1)                 31        \n",
      "=================================================================\n",
      "Total params: 43,171\n",
      "Trainable params: 43,171\n",
      "Non-trainable params: 0\n",
      "_________________________________________________________________\n"
     ]
    }
   ],
   "source": [
    "# Summarize the model\n",
    "# YOUR CODE HERE!\n",
    "model.summary()"
   ]
  },
  {
   "cell_type": "code",
   "execution_count": 41,
   "metadata": {
    "scrolled": true
   },
   "outputs": [
    {
     "name": "stdout",
     "output_type": "stream",
     "text": [
      "Epoch 1/70\n",
      "9/9 [==============================] - 0s 6ms/step - loss: 0.1387 - accuracy: 0.0027\n",
      "Epoch 2/70\n",
      "9/9 [==============================] - 0s 5ms/step - loss: 0.0748 - accuracy: 0.0027\n",
      "Epoch 3/70\n",
      "9/9 [==============================] - 0s 4ms/step - loss: 0.0429 - accuracy: 0.0027\n",
      "Epoch 4/70\n",
      "9/9 [==============================] - 0s 4ms/step - loss: 0.0326 - accuracy: 0.0027\n",
      "Epoch 5/70\n",
      "9/9 [==============================] - 0s 4ms/step - loss: 0.0369 - accuracy: 0.0027\n",
      "Epoch 6/70\n",
      "9/9 [==============================] - 0s 4ms/step - loss: 0.0397 - accuracy: 0.0027\n",
      "Epoch 7/70\n",
      "9/9 [==============================] - 0s 4ms/step - loss: 0.0371 - accuracy: 0.0027\n",
      "Epoch 8/70\n",
      "9/9 [==============================] - 0s 4ms/step - loss: 0.0395 - accuracy: 0.0027\n",
      "Epoch 9/70\n",
      "9/9 [==============================] - 0s 4ms/step - loss: 0.0371 - accuracy: 0.0027\n",
      "Epoch 10/70\n",
      "9/9 [==============================] - 0s 4ms/step - loss: 0.0354 - accuracy: 0.0027\n",
      "Epoch 11/70\n",
      "9/9 [==============================] - 0s 4ms/step - loss: 0.0388 - accuracy: 0.0027\n",
      "Epoch 12/70\n",
      "9/9 [==============================] - 0s 4ms/step - loss: 0.0357 - accuracy: 0.0027\n",
      "Epoch 13/70\n",
      "9/9 [==============================] - 0s 4ms/step - loss: 0.0345 - accuracy: 0.0027\n",
      "Epoch 14/70\n",
      "9/9 [==============================] - 0s 4ms/step - loss: 0.0372 - accuracy: 0.0027\n",
      "Epoch 15/70\n",
      "9/9 [==============================] - 0s 4ms/step - loss: 0.0367 - accuracy: 0.0027\n",
      "Epoch 16/70\n",
      "9/9 [==============================] - 0s 4ms/step - loss: 0.0371 - accuracy: 0.0027\n",
      "Epoch 17/70\n",
      "9/9 [==============================] - 0s 4ms/step - loss: 0.0350 - accuracy: 0.0027\n",
      "Epoch 18/70\n",
      "9/9 [==============================] - 0s 4ms/step - loss: 0.0356 - accuracy: 0.0027\n",
      "Epoch 19/70\n",
      "9/9 [==============================] - 0s 4ms/step - loss: 0.0349 - accuracy: 0.0027\n",
      "Epoch 20/70\n",
      "9/9 [==============================] - 0s 4ms/step - loss: 0.0373 - accuracy: 0.0027\n",
      "Epoch 21/70\n",
      "9/9 [==============================] - 0s 4ms/step - loss: 0.0363 - accuracy: 0.0027\n",
      "Epoch 22/70\n",
      "9/9 [==============================] - 0s 4ms/step - loss: 0.0362 - accuracy: 0.0027\n",
      "Epoch 23/70\n",
      "9/9 [==============================] - 0s 4ms/step - loss: 0.0363 - accuracy: 0.0027\n",
      "Epoch 24/70\n",
      "9/9 [==============================] - 0s 4ms/step - loss: 0.0349 - accuracy: 0.0027\n",
      "Epoch 25/70\n",
      "9/9 [==============================] - 0s 4ms/step - loss: 0.0365 - accuracy: 0.0027\n",
      "Epoch 26/70\n",
      "9/9 [==============================] - 0s 4ms/step - loss: 0.0364 - accuracy: 0.0027\n",
      "Epoch 27/70\n",
      "9/9 [==============================] - 0s 4ms/step - loss: 0.0352 - accuracy: 0.0027\n",
      "Epoch 28/70\n",
      "9/9 [==============================] - 0s 4ms/step - loss: 0.0355 - accuracy: 0.0027\n",
      "Epoch 29/70\n",
      "9/9 [==============================] - 0s 4ms/step - loss: 0.0367 - accuracy: 0.0027\n",
      "Epoch 30/70\n",
      "9/9 [==============================] - 0s 4ms/step - loss: 0.0361 - accuracy: 0.0027\n",
      "Epoch 31/70\n",
      "9/9 [==============================] - 0s 4ms/step - loss: 0.0357 - accuracy: 0.0027\n",
      "Epoch 32/70\n",
      "9/9 [==============================] - 0s 4ms/step - loss: 0.0377 - accuracy: 0.0027\n",
      "Epoch 33/70\n",
      "9/9 [==============================] - 0s 4ms/step - loss: 0.0367 - accuracy: 0.0027\n",
      "Epoch 34/70\n",
      "9/9 [==============================] - 0s 4ms/step - loss: 0.0357 - accuracy: 0.0027\n",
      "Epoch 35/70\n",
      "9/9 [==============================] - 0s 4ms/step - loss: 0.0358 - accuracy: 0.0027\n",
      "Epoch 36/70\n",
      "9/9 [==============================] - 0s 4ms/step - loss: 0.0366 - accuracy: 0.0027\n",
      "Epoch 37/70\n",
      "9/9 [==============================] - 0s 4ms/step - loss: 0.0356 - accuracy: 0.0027\n",
      "Epoch 38/70\n",
      "9/9 [==============================] - 0s 4ms/step - loss: 0.0347 - accuracy: 0.0027\n",
      "Epoch 39/70\n",
      "9/9 [==============================] - 0s 4ms/step - loss: 0.0344 - accuracy: 0.0027\n",
      "Epoch 40/70\n",
      "9/9 [==============================] - 0s 4ms/step - loss: 0.0345 - accuracy: 0.0027\n",
      "Epoch 41/70\n",
      "9/9 [==============================] - 0s 4ms/step - loss: 0.0355 - accuracy: 0.0027\n",
      "Epoch 42/70\n",
      "9/9 [==============================] - 0s 4ms/step - loss: 0.0350 - accuracy: 0.0027\n",
      "Epoch 43/70\n",
      "9/9 [==============================] - 0s 4ms/step - loss: 0.0344 - accuracy: 0.0027\n",
      "Epoch 44/70\n",
      "9/9 [==============================] - 0s 4ms/step - loss: 0.0364 - accuracy: 0.0027\n",
      "Epoch 45/70\n",
      "9/9 [==============================] - 0s 4ms/step - loss: 0.0338 - accuracy: 0.0027\n",
      "Epoch 46/70\n",
      "9/9 [==============================] - 0s 4ms/step - loss: 0.0344 - accuracy: 0.0027\n",
      "Epoch 47/70\n",
      "9/9 [==============================] - 0s 4ms/step - loss: 0.0351 - accuracy: 0.0027\n",
      "Epoch 48/70\n",
      "9/9 [==============================] - 0s 4ms/step - loss: 0.0366 - accuracy: 0.0027\n",
      "Epoch 49/70\n",
      "9/9 [==============================] - 0s 4ms/step - loss: 0.0353 - accuracy: 0.0027\n",
      "Epoch 50/70\n",
      "9/9 [==============================] - 0s 4ms/step - loss: 0.0357 - accuracy: 0.0027\n",
      "Epoch 51/70\n",
      "9/9 [==============================] - 0s 4ms/step - loss: 0.0346 - accuracy: 0.0027\n",
      "Epoch 52/70\n",
      "9/9 [==============================] - 0s 4ms/step - loss: 0.0347 - accuracy: 0.0027\n",
      "Epoch 53/70\n",
      "9/9 [==============================] - 0s 4ms/step - loss: 0.0353 - accuracy: 0.0027\n",
      "Epoch 54/70\n",
      "9/9 [==============================] - 0s 4ms/step - loss: 0.0357 - accuracy: 0.0027\n",
      "Epoch 55/70\n",
      "9/9 [==============================] - 0s 4ms/step - loss: 0.0355 - accuracy: 0.0027\n",
      "Epoch 56/70\n",
      "9/9 [==============================] - 0s 4ms/step - loss: 0.0349 - accuracy: 0.0027\n",
      "Epoch 57/70\n",
      "9/9 [==============================] - 0s 4ms/step - loss: 0.0345 - accuracy: 0.0027\n",
      "Epoch 58/70\n",
      "9/9 [==============================] - 0s 4ms/step - loss: 0.0353 - accuracy: 0.0027\n",
      "Epoch 59/70\n",
      "9/9 [==============================] - 0s 4ms/step - loss: 0.0343 - accuracy: 0.0027\n",
      "Epoch 60/70\n",
      "9/9 [==============================] - 0s 4ms/step - loss: 0.0355 - accuracy: 0.0027\n",
      "Epoch 61/70\n",
      "9/9 [==============================] - 0s 4ms/step - loss: 0.0344 - accuracy: 0.0027\n",
      "Epoch 62/70\n",
      "9/9 [==============================] - 0s 4ms/step - loss: 0.0353 - accuracy: 0.0027\n",
      "Epoch 63/70\n",
      "9/9 [==============================] - 0s 4ms/step - loss: 0.0345 - accuracy: 0.0027\n",
      "Epoch 64/70\n",
      "9/9 [==============================] - 0s 4ms/step - loss: 0.0348 - accuracy: 0.0027\n",
      "Epoch 65/70\n",
      "9/9 [==============================] - 0s 4ms/step - loss: 0.0349 - accuracy: 0.0027\n",
      "Epoch 66/70\n",
      "9/9 [==============================] - 0s 4ms/step - loss: 0.0352 - accuracy: 0.0027\n",
      "Epoch 67/70\n",
      "9/9 [==============================] - 0s 4ms/step - loss: 0.0347 - accuracy: 0.0027\n",
      "Epoch 68/70\n",
      "9/9 [==============================] - 0s 4ms/step - loss: 0.0346 - accuracy: 0.0027\n",
      "Epoch 69/70\n",
      "9/9 [==============================] - 0s 4ms/step - loss: 0.0348 - accuracy: 0.0027\n",
      "Epoch 70/70\n",
      "9/9 [==============================] - 0s 4ms/step - loss: 0.0351 - accuracy: 0.0027\n"
     ]
    },
    {
     "data": {
      "text/plain": [
       "<tensorflow.python.keras.callbacks.History at 0x1a428feb308>"
      ]
     },
     "execution_count": 41,
     "metadata": {},
     "output_type": "execute_result"
    }
   ],
   "source": [
    "# Train the model\n",
    "# Use at least 10 epochs\n",
    "# Do not shuffle the data\n",
    "# Experiement with the batch size, but a smaller batch size is recommended\n",
    "# YOUR CODE HERE!\n",
    "model.fit(X_train, y_train, epochs=70, shuffle=False, batch_size=45, verbose=1)"
   ]
  },
  {
   "cell_type": "markdown",
   "metadata": {},
   "source": [
    "---"
   ]
  },
  {
   "cell_type": "markdown",
   "metadata": {},
   "source": [
    "## Model Performance\n",
    "\n",
    "In this section, you will evaluate the model using the test data. \n",
    "\n",
    "You will need to:\n",
    "1. Evaluate the model using the `X_test` and `y_test` data.\n",
    "2. Use the X_test data to make predictions\n",
    "3. Create a DataFrame of Real (y_test) vs predicted values. \n",
    "4. Plot the Real vs predicted values as a line chart\n",
    "\n",
    "### Hints\n",
    "Remember to apply the `inverse_transform` function to the predicted and y_test values to recover the actual closing prices."
   ]
  },
  {
   "cell_type": "code",
   "execution_count": 42,
   "metadata": {},
   "outputs": [
    {
     "name": "stdout",
     "output_type": "stream",
     "text": [
      "4/4 [==============================] - 0s 1ms/step - loss: 0.0968 - accuracy: 0.0062\n",
      "test loss, test acc: [0.09679000824689865, 0.006211180239915848]\n"
     ]
    }
   ],
   "source": [
    "# Evaluate the model\n",
    "# YOUR CODE HERE!\n",
    "results = model.evaluate(X_test, y_test, batch_size=45)\n",
    "print(\"test loss, test acc:\", results)"
   ]
  },
  {
   "cell_type": "code",
   "execution_count": 43,
   "metadata": {},
   "outputs": [],
   "source": [
    "# Make some predictions\n",
    "# YOUR CODE HERE!\n",
    "predicted = model.predict(X_test)"
   ]
  },
  {
   "cell_type": "code",
   "execution_count": 44,
   "metadata": {},
   "outputs": [],
   "source": [
    "# Recover the original prices instead of the scaled version\n",
    "predicted_prices = scaler.inverse_transform(predicted)\n",
    "real_prices = scaler.inverse_transform(y_test.reshape(-1, 1))"
   ]
  },
  {
   "cell_type": "code",
   "execution_count": 45,
   "metadata": {},
   "outputs": [
    {
     "data": {
      "text/html": [
       "<div>\n",
       "<style scoped>\n",
       "    .dataframe tbody tr th:only-of-type {\n",
       "        vertical-align: middle;\n",
       "    }\n",
       "\n",
       "    .dataframe tbody tr th {\n",
       "        vertical-align: top;\n",
       "    }\n",
       "\n",
       "    .dataframe thead th {\n",
       "        text-align: right;\n",
       "    }\n",
       "</style>\n",
       "<table border=\"1\" class=\"dataframe\">\n",
       "  <thead>\n",
       "    <tr style=\"text-align: right;\">\n",
       "      <th></th>\n",
       "      <th>Real</th>\n",
       "      <th>Predicted</th>\n",
       "      <th>Diff</th>\n",
       "    </tr>\n",
       "  </thead>\n",
       "  <tbody>\n",
       "    <tr>\n",
       "      <th>2019-02-19</th>\n",
       "      <td>3912.570068</td>\n",
       "      <td>7281.571777</td>\n",
       "      <td>-3369.001709</td>\n",
       "    </tr>\n",
       "    <tr>\n",
       "      <th>2019-02-20</th>\n",
       "      <td>3924.239990</td>\n",
       "      <td>7432.149414</td>\n",
       "      <td>-3507.909424</td>\n",
       "    </tr>\n",
       "    <tr>\n",
       "      <th>2019-02-21</th>\n",
       "      <td>3974.050049</td>\n",
       "      <td>7435.875000</td>\n",
       "      <td>-3461.824951</td>\n",
       "    </tr>\n",
       "    <tr>\n",
       "      <th>2019-02-22</th>\n",
       "      <td>3937.040039</td>\n",
       "      <td>7516.486328</td>\n",
       "      <td>-3579.446289</td>\n",
       "    </tr>\n",
       "    <tr>\n",
       "      <th>2019-02-23</th>\n",
       "      <td>3983.530029</td>\n",
       "      <td>7784.330078</td>\n",
       "      <td>-3800.800049</td>\n",
       "    </tr>\n",
       "  </tbody>\n",
       "</table>\n",
       "</div>"
      ],
      "text/plain": [
       "                   Real    Predicted         Diff\n",
       "2019-02-19  3912.570068  7281.571777 -3369.001709\n",
       "2019-02-20  3924.239990  7432.149414 -3507.909424\n",
       "2019-02-21  3974.050049  7435.875000 -3461.824951\n",
       "2019-02-22  3937.040039  7516.486328 -3579.446289\n",
       "2019-02-23  3983.530029  7784.330078 -3800.800049"
      ]
     },
     "execution_count": 45,
     "metadata": {},
     "output_type": "execute_result"
    }
   ],
   "source": [
    "# Create a DataFrame of Real and Predicted values\n",
    "stocks = pd.DataFrame({\n",
    "    \"Real\": real_prices.ravel(),\n",
    "    \"Predicted\": predicted_prices.ravel(),\n",
    "    \"Diff\": real_prices.ravel() - predicted_prices.ravel()\n",
    "}, index = df.index[-len(real_prices): ]) \n",
    "stocks.head()"
   ]
  },
  {
   "cell_type": "code",
   "execution_count": 46,
   "metadata": {},
   "outputs": [
    {
     "data": {
      "text/html": [
       "<div>\n",
       "<style scoped>\n",
       "    .dataframe tbody tr th:only-of-type {\n",
       "        vertical-align: middle;\n",
       "    }\n",
       "\n",
       "    .dataframe tbody tr th {\n",
       "        vertical-align: top;\n",
       "    }\n",
       "\n",
       "    .dataframe thead th {\n",
       "        text-align: right;\n",
       "    }\n",
       "</style>\n",
       "<table border=\"1\" class=\"dataframe\">\n",
       "  <thead>\n",
       "    <tr style=\"text-align: right;\">\n",
       "      <th></th>\n",
       "      <th>Real</th>\n",
       "      <th>Predicted</th>\n",
       "      <th>Diff</th>\n",
       "    </tr>\n",
       "  </thead>\n",
       "  <tbody>\n",
       "    <tr>\n",
       "      <th>count</th>\n",
       "      <td>161.000000</td>\n",
       "      <td>161.000000</td>\n",
       "      <td>161.000000</td>\n",
       "    </tr>\n",
       "    <tr>\n",
       "      <th>mean</th>\n",
       "      <td>7018.641727</td>\n",
       "      <td>8944.731445</td>\n",
       "      <td>-1926.090164</td>\n",
       "    </tr>\n",
       "    <tr>\n",
       "      <th>std</th>\n",
       "      <td>2735.929959</td>\n",
       "      <td>1379.179932</td>\n",
       "      <td>2322.623855</td>\n",
       "    </tr>\n",
       "    <tr>\n",
       "      <th>min</th>\n",
       "      <td>3731.280029</td>\n",
       "      <td>6039.675781</td>\n",
       "      <td>-5326.840576</td>\n",
       "    </tr>\n",
       "    <tr>\n",
       "      <th>25%</th>\n",
       "      <td>4118.129883</td>\n",
       "      <td>7874.854004</td>\n",
       "      <td>-3785.766602</td>\n",
       "    </tr>\n",
       "    <tr>\n",
       "      <th>50%</th>\n",
       "      <td>6171.959961</td>\n",
       "      <td>8831.511719</td>\n",
       "      <td>-2598.690430</td>\n",
       "    </tr>\n",
       "    <tr>\n",
       "      <th>75%</th>\n",
       "      <td>9280.540039</td>\n",
       "      <td>9989.716797</td>\n",
       "      <td>-520.634766</td>\n",
       "    </tr>\n",
       "    <tr>\n",
       "      <th>max</th>\n",
       "      <td>12913.280273</td>\n",
       "      <td>11937.810547</td>\n",
       "      <td>4286.194336</td>\n",
       "    </tr>\n",
       "  </tbody>\n",
       "</table>\n",
       "</div>"
      ],
      "text/plain": [
       "               Real     Predicted         Diff\n",
       "count    161.000000    161.000000   161.000000\n",
       "mean    7018.641727   8944.731445 -1926.090164\n",
       "std     2735.929959   1379.179932  2322.623855\n",
       "min     3731.280029   6039.675781 -5326.840576\n",
       "25%     4118.129883   7874.854004 -3785.766602\n",
       "50%     6171.959961   8831.511719 -2598.690430\n",
       "75%     9280.540039   9989.716797  -520.634766\n",
       "max    12913.280273  11937.810547  4286.194336"
      ]
     },
     "execution_count": 46,
     "metadata": {},
     "output_type": "execute_result"
    }
   ],
   "source": [
    "stocks.describe()"
   ]
  },
  {
   "cell_type": "code",
   "execution_count": 47,
   "metadata": {},
   "outputs": [
    {
     "data": {
      "image/png": "[encoded data removed]",
      "text/plain": [
       "<Figure size 1080x504 with 1 Axes>"
      ]
     },
     "metadata": {
      "needs_background": "light"
     },
     "output_type": "display_data"
    }
   ],
   "source": [
    "# Plot the real vs predicted values as a line chart\n",
    "# YOUR CODE HERE!\n",
    "import matplotlib.pyplot as plt\n",
    "ax = plt.gca()\n",
    "\n",
    "stocks.plot(kind='line', y='Real',ax=ax, figsize=(15,7))\n",
    "stocks.plot(kind='line', y='Predicted', color='red', ax=ax, title=\"Actual Vs. Predicted Gold Prices\")\n",
    "\n",
    "plt.show()"
   ]
  }
 ],
 "metadata": {
  "file_extension": ".py",
  "kernelspec": {
   "display_name": "Python 3",
   "language": "python",
   "name": "python3"
  },
  "language_info": {
   "codemirror_mode": {
    "name": "ipython",
    "version": 3
   },
   "file_extension": ".py",
   "mimetype": "text/x-python",
   "name": "python",
   "nbconvert_exporter": "python",
   "pygments_lexer": "ipython3",
   "version": "3.7.6"
  },
  "mimetype": "text/x-python",
  "name": "python",
  "npconvert_exporter": "python",
  "pygments_lexer": "ipython3",
  "version": 3
 },
 "nbformat": 4,
 "nbformat_minor": 4
}
